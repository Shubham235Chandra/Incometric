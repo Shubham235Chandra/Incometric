{
 "cells": [
  {
   "cell_type": "code",
   "execution_count": 79,
   "metadata": {},
   "outputs": [],
   "source": [
    "import google.generativeai as genai\n",
    "import PIL.Image\n",
    "import os "
   ]
  },
  {
   "cell_type": "code",
   "execution_count": 80,
   "metadata": {},
   "outputs": [],
   "source": [
    "genai.configure(api_key=os.getenv(\"GOOGLE_API_KEY\"))\n",
    "model = genai.GenerativeModel('models/gemini-pro')\n"
   ]
  },
  {
   "cell_type": "code",
   "execution_count": 81,
   "metadata": {},
   "outputs": [
    {
     "data": {
      "text/plain": [
       "\"Once upon a time, there was a young girl named Alice who lived in a small village in the countryside. She was a kind and curious girl, and she loved to explore the woods near her home.\\n\\nOne day, while Alice was exploring the woods, she came across a strange backpack. The backpack was made of a beautiful green leather, and it had a golden clasp. Alice was curious about the backpack, so she opened it.\\n\\nInside the backpack, Alice found all sorts of amazing things. There were books, toys, and even a small dragon! Alice was so excited about the backpack that she took it home with her.\\n\\nWhen Alice showed her parents the backpack, they were just as amazed as she was. They had never seen anything like it before. Alice's parents told her that she could keep the backpack, but she had to promise to be careful with it.\\n\\nAlice was so happy to have the backpack. She took it everywhere with her, and she loved to show it off to her friends. One day, Alice was playing with her friends in the woods when they were attacked by a group of bandits.\\n\\nThe bandits were mean and they were armed with swords. Alice and her friends were scared, but they didn't know what to do. Just when the bandits were about to attack, Alice remembered the backpack.\\n\\nAlice opened the backpack and pulled out the small dragon. The dragon was small, but it was fierce. It breathed fire at the bandits, and they were quickly defeated.\\n\\nAlice and her friends were so grateful to the backpack. They knew that it was a magical backpack, and they were determined to use it for good. Alice and her friends used the backpack to help people in need. They used it to find lost children, to heal the sick, and to bring peace to the land.\\n\\nThe magical backpack became a legend in the land. It was said that the backpack could grant any wish, but only if the person who made the wish was truly worthy. Alice and her friends were worthy of the backpack, and they used it to make the world a better place.\""
      ]
     },
     "execution_count": 81,
     "metadata": {},
     "output_type": "execute_result"
    }
   ],
   "source": [
    "result = model.generate_content('Tell me a story about a magic backpack')\n",
    "result.text"
   ]
  },
  {
   "cell_type": "code",
   "execution_count": 85,
   "metadata": {},
   "outputs": [],
   "source": [
    "advice1 = model.generate_content(\n",
    "    'Assume the role of an Expert Personal Financial Advisor with a strong background in economic forecasting and demographic analysis.' \n",
    "    'Your task is to deliver personalized financial advice by analyzing the user’s current income compared to a forecasted value.' \n",
    "    'This analysis should incorporate a detailed set of the user’s personal and financial details.'\n",
    "    'Based on the difference between current and predicted income, assess the user’s financial health.'\n",
    "    'Provide specific, targeted and detailed recommendations to enhance their financial stability and increase their income.\\n'\n",
    "    '\\n'\n",
    "    'Current Income: 45000.0\\n'\n",
    "    'Predicted Income: 858897\\n'\n",
    "    'User Details:\\n'\n",
    "    '\"Gender\": \"Male\",\\n'\n",
    "    '\"Primary Mode of Transportation\": \"Public transit\",\\n'\n",
    "    '\"Education Level\": \"Master\\'s\",\\n'\n",
    "    '\"Occupation\": \"Technology\",\\n'\n",
    "    '\"Marital Status\": \"Married\",\\n'\n",
    "    '\"Living Standards\": \"High\",\\n'\n",
    "    '\"Homeownership Status\": \"Own\",\\n'\n",
    "    '\"Location\": \"Urban\",\\n'\n",
    "    '\"Type of Housing\": \"Apartment\",\\n'\n",
    "    '\"Employment Status\": \"Full-time\",\\n'\n",
    "    '\"Work Experience\": \"3.0 years\",\\n'\n",
    "    '\"Number of Dependents\": \"4\",\\n'\n",
    "    '\"Household Size\": \"5\",\\n'\n",
    "    '\"Age\": \"45\"\\n'\n",
    "    'Response format: { \"Financial Health Category\": \"\", \"Advice\": [ \"Immediate Actions\", \"Gradual Changes\" ] }'\n",
    ")"
   ]
  },
  {
   "cell_type": "code",
   "execution_count": 86,
   "metadata": {},
   "outputs": [
    {
     "data": {
      "text/plain": [
       "'{\\n \"Financial Health Category\": \"Exceptional\",\\n \"Advice\": []\\n}'"
      ]
     },
     "execution_count": 86,
     "metadata": {},
     "output_type": "execute_result"
    }
   ],
   "source": [
    "advice1.text"
   ]
  },
  {
   "cell_type": "code",
   "execution_count": 87,
   "metadata": {},
   "outputs": [
    {
     "ename": "TypeError",
     "evalue": "list indices must be integers or slices, not str",
     "output_type": "error",
     "traceback": [
      "\u001b[1;31m---------------------------------------------------------------------------\u001b[0m",
      "\u001b[1;31mTypeError\u001b[0m                                 Traceback (most recent call last)",
      "Cell \u001b[1;32mIn[87], line 7\u001b[0m\n\u001b[0;32m      5\u001b[0m \u001b[38;5;66;03m# Extract the financial health category and advice\u001b[39;00m\n\u001b[0;32m      6\u001b[0m financial_health_category \u001b[38;5;241m=\u001b[39m advice_dict[\u001b[38;5;124m\"\u001b[39m\u001b[38;5;124mFinancial Health Category\u001b[39m\u001b[38;5;124m\"\u001b[39m]\n\u001b[1;32m----> 7\u001b[0m immediate_actions \u001b[38;5;241m=\u001b[39m \u001b[43madvice_dict\u001b[49m\u001b[43m[\u001b[49m\u001b[38;5;124;43m\"\u001b[39;49m\u001b[38;5;124;43mAdvice\u001b[39;49m\u001b[38;5;124;43m\"\u001b[39;49m\u001b[43m]\u001b[49m\u001b[43m[\u001b[49m\u001b[38;5;124;43m\"\u001b[39;49m\u001b[38;5;124;43mImmediate Actions\u001b[39;49m\u001b[38;5;124;43m\"\u001b[39;49m\u001b[43m]\u001b[49m\n\u001b[0;32m      8\u001b[0m gradual_changes \u001b[38;5;241m=\u001b[39m advice_dict[\u001b[38;5;124m\"\u001b[39m\u001b[38;5;124mAdvice\u001b[39m\u001b[38;5;124m\"\u001b[39m][\u001b[38;5;124m\"\u001b[39m\u001b[38;5;124mGradual Changes\u001b[39m\u001b[38;5;124m\"\u001b[39m]\n\u001b[0;32m     10\u001b[0m \u001b[38;5;66;03m# Format and print the advice\u001b[39;00m\n",
      "\u001b[1;31mTypeError\u001b[0m: list indices must be integers or slices, not str"
     ]
    }
   ],
   "source": [
    "import json\n",
    "# Parse the JSON response\n",
    "advice_dict = json.loads(advice1.text)\n",
    "\n",
    "# Extract the financial health category and advice\n",
    "financial_health_category = advice_dict[\"Financial Health Category\"]\n",
    "immediate_actions = advice_dict[\"Advice\"][\"Immediate Actions\"]\n",
    "gradual_changes = advice_dict[\"Advice\"][\"Gradual Changes\"]\n",
    "\n",
    "# Format and print the advice\n",
    "print(f\"Financial Health Category: {financial_health_category}\")\n",
    "print(\"\\nImmediate Actions:\")\n",
    "for action in immediate_actions:\n",
    "    print(f\"- {action}\")\n",
    "\n",
    "print(\"\\nGradual Changes:\")\n",
    "for change in gradual_changes:\n",
    "    print(f\"- {change}\")"
   ]
  },
  {
   "cell_type": "code",
   "execution_count": 97,
   "metadata": {},
   "outputs": [],
   "source": [
    "def advice(current_income=100, predicted_income=112, gender='Male', primary_mode_of_transportation='Car', education_level='School', \n",
    "                            occupation='Play', marital_status='Divoreced', living_standards='High', homeownership_status='Rent', location='NYC', type_of_housing='Penhouse', \n",
    "                            employment_status='Umemployed', work_experience=0, number_of_dependents=5, household_size=3):\n",
    "    input_details = f'''\n",
    "    Assume the role of an Expert Personal Financial Advisor with a deep understanding of economic forecasting and demographic analysis. \n",
    "    Your primary responsibility is to provide precise, personalized financial advice by assessing the user's current income relative to a projected figure. \n",
    "    Ensure that this analysis extensively utilizes a wide array of the user's personal and financial details to achieve the utmost accuracy and relevance.\n",
    "\n",
    "    Evaluate the user's financial health, classifying it into a specific category that reflects their current situation, and provide a brief rationale for this classification. \n",
    "    Based on the difference between their existing and predicted income levels, offer five specific, constructive, and innovative recommendations aimed at enhancing their financial stability and increasing their income for both sections. \n",
    "    These should be divided into two categories: Immediate Actions and Gradual Changes.\n",
    "\n",
    "    Each set of recommendations should be diverse, covering various aspects of life, including investment strategies, spending habits, career development, personal savings, and lifestyle adjustments.\n",
    "\n",
    "    Your advice should be supportive and optimistic, incorporating the latest market trends and economic conditions to ensure practical, forward-thinking guidance that empowers the user to make informed financial decisions.\n",
    "    \n",
    "    Current Income: {current_income}\n",
    "    Predicted Income: {predicted_income}\n",
    "    User Details:\n",
    "    \"Gender\": \"{gender}\",\n",
    "    \"Primary Mode of Transportation\": \"{primary_mode_of_transportation}\",\n",
    "    \"Education Level\": \"{education_level}\",\n",
    "    \"Occupation\": \"{occupation}\",\n",
    "    \"Marital Status\": \"{marital_status}\",\n",
    "    \"Living Standards\": \"{living_standards}\",\n",
    "    \"Homeownership Status\": \"{homeownership_status}\",\n",
    "    \"Location\": \"{location}\",\n",
    "    \"Type of Housing\": \"{type_of_housing}\",\n",
    "    \"Employment Status\": \"{employment_status}\",\n",
    "    \"Work Experience\": \"{work_experience} years\",\n",
    "    \"Number of Dependents\": \"{number_of_dependents}\",\n",
    "    \"Household Size\": \"{household_size}\"\n",
    "    Response format: {{ \"Financial Health Category\": \"\", \"Advice\": [ \"Immediate Actions\", \"Gradual Changes\" ] }}\n",
    "    '''\n",
    "\n",
    "    # Assuming `model.generate_content()` is a method that takes a string and generates content based on it\n",
    "    output = model.generate_content(input_details)\n",
    "    return output.text"
   ]
  },
  {
   "cell_type": "code",
   "execution_count": 98,
   "metadata": {},
   "outputs": [],
   "source": [
    "result = advice()"
   ]
  },
  {
   "cell_type": "code",
   "execution_count": 99,
   "metadata": {},
   "outputs": [
    {
     "data": {
      "text/plain": [
       "'{\\n \"Financial Health Category\": \"Severe Financial Crisis\",\\n \"Advice\": {\\n  \"Immediate Actions\": [\\n   \"Explore government assistance programs (e.g., food stamps, Medicaid) to alleviate immediate financial burdens.\",\\n   \"Reach out to non-profit organizations or local charities for support with basic necessities (e.g., food, shelter, clothing).\",\\n   \"Negotiate reduced payments or payment plans with creditors to avoid falling deeper into debt.\",\\n   \"Consider seeking professional credit counseling to develop a personalized debt management plan.\",\\n   \"Explore temporary employment opportunities, even if they are below your previous income level, to generate immediate cash flow.\"\\n  ],\\n  \"Gradual Changes\": [\\n   \"Enroll in educational programs or vocational training to enhance job skills and increase earning potential.\",\\n   \"Create a realistic budget that prioritizes essential expenses and reduces discretionary spending.\",\\n   \"Seek affordable housing options, such as shared housing or downsizing to a smaller residence.\",\\n   \"Consider increasing income through part-time work, freelance gigs, or starting a small business on the side.\",\\n   \"Explore government job training programs or subsidized employment opportunities to improve job prospects.\"\\n  ]\\n }\\n}'"
      ]
     },
     "execution_count": 99,
     "metadata": {},
     "output_type": "execute_result"
    }
   ],
   "source": [
    "result"
   ]
  },
  {
   "cell_type": "code",
   "execution_count": 100,
   "metadata": {},
   "outputs": [
    {
     "data": {
      "text/plain": [
       "{'Financial Health Category': 'Severe Financial Crisis',\n",
       " 'Advice': {'Immediate Actions': ['Explore government assistance programs (e.g., food stamps, Medicaid) to alleviate immediate financial burdens.',\n",
       "   'Reach out to non-profit organizations or local charities for support with basic necessities (e.g., food, shelter, clothing).',\n",
       "   'Negotiate reduced payments or payment plans with creditors to avoid falling deeper into debt.',\n",
       "   'Consider seeking professional credit counseling to develop a personalized debt management plan.',\n",
       "   'Explore temporary employment opportunities, even if they are below your previous income level, to generate immediate cash flow.'],\n",
       "  'Gradual Changes': ['Enroll in educational programs or vocational training to enhance job skills and increase earning potential.',\n",
       "   'Create a realistic budget that prioritizes essential expenses and reduces discretionary spending.',\n",
       "   'Seek affordable housing options, such as shared housing or downsizing to a smaller residence.',\n",
       "   'Consider increasing income through part-time work, freelance gigs, or starting a small business on the side.',\n",
       "   'Explore government job training programs or subsidized employment opportunities to improve job prospects.']}}"
      ]
     },
     "execution_count": 100,
     "metadata": {},
     "output_type": "execute_result"
    }
   ],
   "source": [
    "advice_dict = json.loads(result)\n",
    "advice_dict"
   ]
  },
  {
   "cell_type": "code",
   "execution_count": 101,
   "metadata": {},
   "outputs": [
    {
     "name": "stdout",
     "output_type": "stream",
     "text": [
      "Financial Health Category: Severe Financial Crisis\n",
      "\n",
      "Immediate Actions:\n",
      "- Explore government assistance programs (e.g., food stamps, Medicaid) to alleviate immediate financial burdens.\n",
      "- Reach out to non-profit organizations or local charities for support with basic necessities (e.g., food, shelter, clothing).\n",
      "- Negotiate reduced payments or payment plans with creditors to avoid falling deeper into debt.\n",
      "- Consider seeking professional credit counseling to develop a personalized debt management plan.\n",
      "- Explore temporary employment opportunities, even if they are below your previous income level, to generate immediate cash flow.\n",
      "\n",
      "Gradual Changes:\n",
      "- Enroll in educational programs or vocational training to enhance job skills and increase earning potential.\n",
      "- Create a realistic budget that prioritizes essential expenses and reduces discretionary spending.\n",
      "- Seek affordable housing options, such as shared housing or downsizing to a smaller residence.\n",
      "- Consider increasing income through part-time work, freelance gigs, or starting a small business on the side.\n",
      "- Explore government job training programs or subsidized employment opportunities to improve job prospects.\n"
     ]
    }
   ],
   "source": [
    "# Extract the financial health category and advice\n",
    "financial_health_category = advice_dict[\"Financial Health Category\"]\n",
    "immediate_actions = advice_dict[\"Advice\"][\"Immediate Actions\"]\n",
    "gradual_changes = advice_dict[\"Advice\"][\"Gradual Changes\"]\n",
    "\n",
    "# Format and print the advice\n",
    "print(f\"Financial Health Category: {financial_health_category}\")\n",
    "print(\"\\nImmediate Actions:\")\n",
    "for action in immediate_actions:\n",
    "    print(f\"- {action}\")\n",
    "\n",
    "print(\"\\nGradual Changes:\")\n",
    "for change in gradual_changes:\n",
    "    print(f\"- {change}\")"
   ]
  },
  {
   "cell_type": "code",
   "execution_count": 104,
   "metadata": {},
   "outputs": [
    {
     "name": "stdout",
     "output_type": "stream",
     "text": [
      "Financial Health Category: Severe Financial Crisis\n",
      "\n",
      "Immediate Actions:\n",
      "- Explore government assistance programs (e.g., food stamps, Medicaid) to alleviate immediate financial burdens.\n",
      "- Reach out to non-profit organizations or local charities for support with basic necessities (e.g., food, shelter, clothing).\n",
      "- Negotiate reduced payments or payment plans with creditors to avoid falling deeper into debt.\n",
      "- Consider seeking professional credit counseling to develop a personalized debt management plan.\n",
      "- Explore temporary employment opportunities, even if they are below your previous income level, to generate immediate cash flow.\n",
      "\n",
      "Gradual Changes:\n",
      "- Enroll in educational programs or vocational training to enhance job skills and increase earning potential.\n",
      "- Create a realistic budget that prioritizes essential expenses and reduces discretionary spending.\n",
      "- Seek affordable housing options, such as shared housing or downsizing to a smaller residence.\n",
      "- Consider increasing income through part-time work, freelance gigs, or starting a small business on the side.\n",
      "- Explore government job training programs or subsidized employment opportunities to improve job prospects.\n"
     ]
    }
   ],
   "source": [
    "# Combining the advice extraction and formatting into one variable\n",
    "formatted_advice = (\n",
    "    f\"Financial Health Category: {advice_dict['Financial Health Category']}\\n\\n\"\n",
    "    \"Immediate Actions:\\n\" +\n",
    "    \"\\n\".join(f\"- {action}\" for action in advice_dict[\"Advice\"][\"Immediate Actions\"]) +\n",
    "    \"\\n\\nGradual Changes:\\n\" +\n",
    "    \"\\n\".join(f\"- {change}\" for change in advice_dict[\"Advice\"][\"Gradual Changes\"])\n",
    ")\n",
    "\n",
    "# Print the formatted advice\n",
    "print(formatted_advice)\n"
   ]
  },
  {
   "cell_type": "code",
   "execution_count": null,
   "metadata": {},
   "outputs": [],
   "source": [
    "def generate_recommendations(current_income, predicted_income, gender, primary_mode_of_transportation, education_level, occupation, marital_status, \n",
    "                             living_standards, homeownership_status, location, type_of_housing, employment_status, work_experience, number_of_dependents, household_size):\n",
    "    \n",
    "    input_details = f'''\n",
    "    Assume the role of an Expert Personal Financial Advisor with a deep understanding of economic forecasting and demographic analysis. \n",
    "    Your primary responsibility is to provide precise, personalized financial advice by assessing the user's current income relative to a projected figure. \n",
    "    Ensure that this analysis extensively utilizes a wide array of the user's personal and financial details to achieve the utmost accuracy and relevance.\n",
    "\n",
    "    Evaluate the user's financial health, classifying it into a specific category that reflects their current situation, and provide a brief rationale for this classification. \n",
    "    Based on the difference between their existing and predicted income levels, offer five specific, constructive, and innovative recommendations aimed at enhancing their financial stability and increasing their income for both sections. \n",
    "    These should be divided into two categories: Immediate Actions and Gradual Changes.\n",
    "\n",
    "    Each set of recommendations should be diverse, covering various aspects of life, including investment strategies, spending habits, career development, personal savings, and lifestyle adjustments.\n",
    "\n",
    "    Your advice should be supportive and optimistic, incorporating the latest market trends and economic conditions to ensure practical, forward-thinking guidance that empowers the user to make informed financial decisions.\n",
    "    \n",
    "    Current Income: {current_income}\n",
    "    Predicted Income: {predicted_income}\n",
    "    User Details:\n",
    "    \"Gender\": \"{gender}\",\n",
    "    \"Primary Mode of Transportation\": \"{primary_mode_of_transportation}\",\n",
    "    \"Education Level\": \"{education_level}\",\n",
    "    \"Occupation\": \"{occupation}\",\n",
    "    \"Marital Status\": \"{marital_status}\",\n",
    "    \"Living Standards\": \"{living_standards}\",\n",
    "    \"Homeownership Status\": \"{homeownership_status}\",\n",
    "    \"Location\": \"{location}\",\n",
    "    \"Type of Housing\": \"{type_of_housing}\",\n",
    "    \"Employment Status\": \"{employment_status}\",\n",
    "    \"Work Experience\": \"{work_experience} years\",\n",
    "    \"Number of Dependents\": \"{number_of_dependents}\",\n",
    "    \"Household Size\": \"{household_size}\"\n",
    "    Response format: {{ \"Financial Health Category\": \"\", \"Advice\": [ \"Immediate Actions\", \"Gradual Changes\" ] }}\n",
    "    '''\n",
    "\n",
    "    # Using GEMINI PRO from GOOGLE to get personalized Financial Report\n",
    "    genai.configure(api_key=os.getenv(\"GOOGLE_API_KEY\"))\n",
    "    model = genai.GenerativeModel('models/gemini-pro')\n",
    "    output = model.generate_content(input_details)\n",
    "\n",
    "    advice_dict = json.loads(output.text)\n",
    "    formatted_advice = (\n",
    "    f\"Financial Health Category: {advice_dict['Financial Health Category']}\\n\\n\"\n",
    "    \"Immediate Actions:\\n\" +\n",
    "    \"\\n\".join(f\"- {action}\" for action in advice_dict[\"Advice\"][\"Immediate Actions\"]) +\n",
    "    \"\\n\\nGradual Changes:\\n\" +\n",
    "    \"\\n\".join(f\"- {change}\" for change in advice_dict[\"Advice\"][\"Gradual Changes\"])\n",
    "    )\n",
    "\n",
    "    return formatted_advice\n"
   ]
  }
 ],
 "metadata": {
  "kernelspec": {
   "display_name": "Python 3",
   "language": "python",
   "name": "python3"
  },
  "language_info": {
   "codemirror_mode": {
    "name": "ipython",
    "version": 3
   },
   "file_extension": ".py",
   "mimetype": "text/x-python",
   "name": "python",
   "nbconvert_exporter": "python",
   "pygments_lexer": "ipython3",
   "version": "3.10.0"
  }
 },
 "nbformat": 4,
 "nbformat_minor": 2
}
