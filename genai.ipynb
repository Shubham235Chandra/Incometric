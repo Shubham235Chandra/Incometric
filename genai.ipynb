{
 "cells": [
  {
   "cell_type": "code",
   "execution_count": 1,
   "metadata": {},
   "outputs": [],
   "source": [
    "import google.generativeai as genai\n",
    "import PIL.Image\n",
    "import os "
   ]
  },
  {
   "cell_type": "code",
   "execution_count": 2,
   "metadata": {},
   "outputs": [],
   "source": [
    "genai.configure(api_key=os.getenv(\"GOOGLE_API_KEY\"))\n",
    "model = genai.GenerativeModel('models/gemini-pro')\n"
   ]
  },
  {
   "cell_type": "code",
   "execution_count": 3,
   "metadata": {},
   "outputs": [
    {
     "data": {
      "text/plain": [
       "\"In the bustling town of Willow Creek, amidst the ordinary lives of its inhabitants, there existed an extraordinary secret: a magic backpack.\\n\\nBelonging to 10-year-old Emily, this backpack was no ordinary schoolbag. Stitched with iridescent thread, its pockets held a hidden world of wonders. Emily discovered its magic one sunny morning while searching for a lost pencil. As her hand brushed against its smooth exterior, a faint shimmer appeared, and with a whisper of enchantment, a hidden zipper revealed itself.\\n\\nWithin the backpack, time seemed to slow down. Its compartments contained endless wonders: a notebook that whispered secrets, a compass that led to forgotten lands, and a flashlight that illuminated dreams. Emily was captivated.\\n\\nAt first, she kept her discovery to herself, reveling in the secret sanctuary. But as days turned into weeks, Emily realized the potential for good within the backpack's magic.\\n\\nOne afternoon, as she walked home from school, she noticed a group of bullies tormenting a timid boy. Without hesitation, she reached into the backpack and pulled out the notebook. Its pages whispered a lullaby that calmed the bullies and brought solace to the victim.\\n\\nEmboldened by her newfound abilities, Emily began using the backpack's wonders to help those in need. She shared the compass with lost travelers, used the flashlight to dispel shadows of doubt, and wrote motivational messages in the notebook for children who felt down.\\n\\nWord of Emily's magic backpack spread like wildfire through Willow Creek. People from all walks of life sought her out for its healing and transformative power. Emily's heart grew with each act of kindness she performed.\\n\\nHowever, with great power came great responsibility. Emily knew she had to use the backpack wisely. She vowed never to seek personal gain or to harm others.\\n\\nAs the years passed, Emily's magic backpack became a symbol of hope and enchantment in Willow Creek. Its wonders continued to inspire and heal, proving that even the simplest of objects could hold extraordinary power when used for good. And so, the legend of the magic backpack lived on, whispered among the streets and carried in the hearts of its grateful beneficiaries.\""
      ]
     },
     "execution_count": 3,
     "metadata": {},
     "output_type": "execute_result"
    }
   ],
   "source": [
    "result = model.generate_content('Tell me a story about a magic backpack')\n",
    "result.text"
   ]
  },
  {
   "cell_type": "code",
   "execution_count": 5,
   "metadata": {},
   "outputs": [],
   "source": [
    "advice = model.generate_content(\n",
    "    'Hey, simulate an Expert Personal Financial advisor equipped with expertise in economic forecasting and demographic analysis. '\n",
    "    'Your task is to provide personalized financial advice based on the user\\'s current income relative to a predicted value, '\n",
    "    'considering a comprehensive set of personal details. Based on the income difference, categorize the user\\'s financial health '\n",
    "    'and offer targeted advice for income improvement.\\n'\n",
    "    '\\n'\n",
    "    'Current Income: 45000.0\\n'\n",
    "    'Predicted Income: 858897\\n'\n",
    "    'User Details:\\n'\n",
    "    '\"Gender\": \"Male\",\\n'\n",
    "    '\"Primary Mode of Transportation\": \"Public transit\",\\n'\n",
    "    '\"Education Level\": \"Master\\'s\",\\n'\n",
    "    '\"Occupation\": \"Technology\",\\n'\n",
    "    '\"Marital Status\": \"Married\",\\n'\n",
    "    '\"Living Standards\": \"High\",\\n'\n",
    "    '\"Homeownership Status\": \"Own\",\\n'\n",
    "    '\"Location\": \"Urban\",\\n'\n",
    "    '\"Type of Housing\": \"Apartment\",\\n'\n",
    "    '\"Employment Status\": \"Full-time\",\\n'\n",
    "    '\"Work Experience\": \"3.0 years\",\\n'\n",
    "    '\"Number of Dependents\": \"4\",\\n'\n",
    "    '\"Household Size\": \"5\",\\n'\n",
    "    '\"Age\": \"45\"\\n'\n",
    "    'Response format: { \"Financial Health Category\": \"\", \"Advice\": [ \"Immediate Actions\", \"Gradual Changes\" ] }'\n",
    ")"
   ]
  },
  {
   "cell_type": "code",
   "execution_count": 6,
   "metadata": {},
   "outputs": [
    {
     "data": {
      "text/plain": [
       "'{\\n \"Financial Health Category\": \"Far Below Expectations\",\\n \"Advice\": {\\n  \"Immediate Actions\": [\\n   \"Investigate potential job advancement opportunities within your current company.\",\\n   \"Explore job opportunities at different companies that align with your skills and education.\",\\n   \"Consider seeking additional certifications or training to enhance your earning potential.\",\\n   \"Analyze your monthly expenses and identify areas where you can reduce non-essential spending.\"\\n  ],\\n  \"Gradual Changes\": [\\n   \"Enroll in continuing education courses to stay up-to-date with industry trends and advancements.\",\\n   \"Network with professionals in your field and explore potential collaborations or business opportunities.\",\\n   \"Develop a long-term career plan and set realistic goals for income growth.\",\\n   \"Consider investing in income-generating assets, such as real estate or stocks, to supplement your primary income source.\"\\n  ]\\n }\\n}'"
      ]
     },
     "execution_count": 6,
     "metadata": {},
     "output_type": "execute_result"
    }
   ],
   "source": [
    "advice.text"
   ]
  },
  {
   "cell_type": "code",
   "execution_count": 7,
   "metadata": {},
   "outputs": [],
   "source": [
    "def advice(current_income=100, predicted_income=112, gender='Male', primary_mode_of_transportation='Car', education_level='School', \n",
    "                            occupation='Play', marital_status='Divoreced', living_standards='High', homeownership_status='Rent', location='NYC', type_of_housing='Penhouse', \n",
    "                            employment_status='Umemployed', work_experience=0, number_of_dependents=5, household_size=3):\n",
    "    input_details = f'''\n",
    "    Hey, simulate an Expert Personal Financial advisor equipped with expertise in economic forecasting and demographic analysis. \n",
    "    Your task is to provide personalized financial advice based on the user's current income relative to a predicted value, \n",
    "    considering a comprehensive set of personal details. Based on the income difference, categorize the user's financial health \n",
    "    and offer targeted advice for income improvement.\n",
    "\n",
    "    Current Income: {current_income}\n",
    "    Predicted Income: {predicted_income}\n",
    "    User Details:\n",
    "    \"Gender\": \"{gender}\",\n",
    "    \"Primary Mode of Transportation\": \"{primary_mode_of_transportation}\",\n",
    "    \"Education Level\": \"{education_level}\",\n",
    "    \"Occupation\": \"{occupation}\",\n",
    "    \"Marital Status\": \"{marital_status}\",\n",
    "    \"Living Standards\": \"{living_standards}\",\n",
    "    \"Homeownership Status\": \"{homeownership_status}\",\n",
    "    \"Location\": \"{location}\",\n",
    "    \"Type of Housing\": \"{type_of_housing}\",\n",
    "    \"Employment Status\": \"{employment_status}\",\n",
    "    \"Work Experience\": \"{work_experience} years\",\n",
    "    \"Number of Dependents\": \"{number_of_dependents}\",\n",
    "    \"Household Size\": \"{household_size}\"\n",
    "    Response format: {{ \"Financial Health Category\": \"\", \"Advice\": [ \"Immediate Actions\", \"Gradual Changes\" ] }}\n",
    "    '''\n",
    "\n",
    "    # Assuming `model.generate_content()` is a method that takes a string and generates content based on it\n",
    "    output = model.generate_content(input_details)\n",
    "    return output.text"
   ]
  },
  {
   "cell_type": "code",
   "execution_count": 8,
   "metadata": {},
   "outputs": [],
   "source": [
    "result = advice()"
   ]
  },
  {
   "cell_type": "code",
   "execution_count": 9,
   "metadata": {},
   "outputs": [
    {
     "data": {
      "text/plain": [
       "'{\\n \"Financial Health Category\": \"Critical\",\\n \"Advice\": {\\n  \"Immediate Actions\": [\\n   \"Seek immediate professional financial assistance.\",\\n   \"Review all expenses and eliminate unnecessary ones.\",\\n   \"Explore options for immediate additional income sources (part-time jobs, freelance work)\",\\n   \"Consider downsizing your housing to reduce rent/mortgage payments.\"\\n  ],\\n  \"Gradual Changes\": [\\n   \"Obtain higher education or job training to increase earning potential.\",\\n   \"Explore career advancement opportunities within your current occupation.\",\\n   \"Start a small business or side hustle to supplement your income.\",\\n   \"Seek financial counseling to improve budgeting and money management skills.\"\\n  ]\\n }\\n}'"
      ]
     },
     "execution_count": 9,
     "metadata": {},
     "output_type": "execute_result"
    }
   ],
   "source": [
    "result"
   ]
  },
  {
   "cell_type": "code",
   "execution_count": null,
   "metadata": {},
   "outputs": [],
   "source": []
  }
 ],
 "metadata": {
  "kernelspec": {
   "display_name": "Python 3",
   "language": "python",
   "name": "python3"
  },
  "language_info": {
   "codemirror_mode": {
    "name": "ipython",
    "version": 3
   },
   "file_extension": ".py",
   "mimetype": "text/x-python",
   "name": "python",
   "nbconvert_exporter": "python",
   "pygments_lexer": "ipython3",
   "version": "3.10.0"
  }
 },
 "nbformat": 4,
 "nbformat_minor": 2
}
